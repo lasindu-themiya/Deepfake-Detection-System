{
 "cells": [
  {
   "cell_type": "markdown",
   "metadata": {},
   "source": [
    "## Step 1: Data Exploration and Preparation\n",
    "\n",
    "In this notebook, we'll start by loading the deepfake detection dataset from Hugging Face. We will explore its structure and visualize some examples to understand what we're working with."
   ]
  },
  {
   "cell_type": "markdown",
   "metadata": {},
   "source": [
    "### 1.1: Install and Import Libraries\n",
    "\n",
    "First, let's make sure we have the necessary libraries installed. `datasets` is from Hugging Face and will help us download the data. `matplotlib` is for plotting images."
   ]
  },
  {
   "cell_type": "code",
   "execution_count": null,
   "metadata": {},
   "outputs": [],
   "source": [
    "%pip install datasets matplotlib Pillow"
   ]
  },
  {
   "cell_type": "code",
   "execution_count": null,
   "metadata": {},
   "outputs": [],
   "source": [
    "from datasets import load_dataset\n",
    "import matplotlib.pyplot as plt\n",
    "import random"
   ]
  },
  {
   "cell_type": "markdown",
   "metadata": {},
   "source": [
    "### 1.2: Load the Dataset\n",
    "\n",
    "We'll load the `saakshigupta/deepfake-detection-dataset-v3` dataset. It's already split into `train` and `test` sets, which is convenient."
   ]
  },
  {
   "cell_type": "code",
   "execution_count": null,
   "metadata": {},
   "outputs": [],
   "source": [
    "dataset = load_dataset(\"saakshigupta/deepfake-detection-dataset-v3\")\n",
    "\n",
    "print(\"Dataset loaded successfully!\")\n",
    "print(dataset)"
   ]
  },
  {
   "cell_type": "markdown",
   "metadata": {},
   "source": [
    "### 1.3: Explore the Dataset Structure\n",
    "\n",
    "Let's look at a single example from the training set to understand the features."
   ]
  },
  {
   "cell_type": "code",
   "execution_count": null,
   "metadata": {},
   "outputs": [],
   "source": [
    "train_dataset = dataset['train']\n",
    "sample = train_dataset[0]\n",
    "\n",
    "print(\"Sample from the dataset:\")\n",
    "print({k: v for k, v in sample.items() if k != 'image'}) # Print all except the image data itself\n",
    "sample['image']"
   ]
  },
  {
   "cell_type": "markdown",
   "metadata": {},
   "source": [
    "### 1.4: Visualize Real vs. Fake Images\n",
    "\n",
    "Visualizing the data is a key step. Let's find one real image and one fake image to display side-by-side. The `label` is 0 for fake and 1 for real."
   ]
  },
  {
   "cell_type": "code",
   "execution_count": null,
   "metadata": {},
   "outputs": [],
   "source": [
    "# Find one real and one fake image\n",
    "real_images = [data for data in train_dataset if data['label'] == 1]\n",
    "fake_images = [data for data in train_dataset if data['label'] == 0]\n",
    "\n",
    "real_sample = random.choice(real_images)\n",
    "fake_sample = random.choice(fake_images)\n",
    "\n",
    "# Create a figure to display the images\n",
    "fig, ax = plt.subplots(1, 2, figsize=(12, 6))\n",
    "\n",
    "ax[0].imshow(real_sample['image'])\n",
    "ax[0].set_title(f\"Real Image\\nLabel: {real_sample['label']}\")\n",
    "ax[0].axis('off')\n",
    "\n",
    "ax[1].imshow(fake_sample['image'])\n",
    "ax[1].set_title(f\"Fake Image\\nLabel: {fake_sample['label']}\")\n",
    "ax[1].axis('off')\n",
    "\n",
    "plt.show()"
   ]
  },
  {
   "cell_type": "markdown",
   "metadata": {},
   "source": [
    "## Next Steps\n",
    "\n",
    "Now that we have loaded and explored the data, the next step is to pre-process it and prepare it for training our CNN model. This will involve:\n",
    "\n",
    "1.  **Resizing and Normalizing Images**: Ensuring all images are the same size and their pixel values are scaled appropriately.\n",
    "2.  **Creating DataLoaders**: Setting up efficient pipelines to feed data to our model during training.\n",
    "\n",
    "We will tackle this in the next notebook, `2_Model_Training.ipynb`."
   ]
  }
 ],
 "metadata": {
  "kernelspec": {
   "display_name": "Python 3",
   "language": "python",
   "name": "python3"
  },
  "language_info": {
   "codemirror_mode": {
    "name": "ipython",
    "version": 3
   },
   "file_extension": ".py",
   "mimetype": "text/x-python",
   "name": "python",
   "nbconvert_exporter": "python",
   "pygments_lexer": "ipython3",
   "version": "3.8.10"
  }
 },
 "nbformat": 4,
 "nbformat_minor": 4
}
